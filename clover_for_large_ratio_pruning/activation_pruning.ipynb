{
 "cells": [
  {
   "cell_type": "code",
   "execution_count": 1,
   "metadata": {},
   "outputs": [],
   "source": [
    "from model import GPT\n",
    "import numpy as np\n",
    "import torch\n",
    "from tqdm import tqdm\n",
    "from copy import deepcopy"
   ]
  },
  {
   "cell_type": "code",
   "execution_count": 2,
   "metadata": {},
   "outputs": [],
   "source": [
    "data = np.memmap('/data2/mengfanxu/nanoGPT/data/openwebtext/val.bin', dtype=np.uint16, mode='r')"
   ]
  },
  {
   "cell_type": "code",
   "execution_count": 3,
   "metadata": {},
   "outputs": [],
   "source": [
    "batch_size = 16\n",
    "block_size = 1024\n",
    "ix = torch.randint(len(data) - block_size, (batch_size,))\n",
    "x = torch.stack([torch.from_numpy((data[i:i+block_size]).astype(np.int64)) for i in ix])"
   ]
  },
  {
   "cell_type": "code",
   "execution_count": 4,
   "metadata": {},
   "outputs": [
    {
     "name": "stderr",
     "output_type": "stream",
     "text": [
      "/home/mengfanxu/miniconda3/lib/python3.12/site-packages/tqdm/auto.py:21: TqdmWarning: IProgress not found. Please update jupyter and ipywidgets. See https://ipywidgets.readthedocs.io/en/stable/user_install.html\n",
      "  from .autonotebook import tqdm as notebook_tqdm\n"
     ]
    },
    {
     "name": "stdout",
     "output_type": "stream",
     "text": [
      "loading weights from pretrained gpt: gpt2-xl\n",
      "forcing vocab_size=50257, block_size=1024, bias=True\n",
      "number of parameters: 1555.97M\n"
     ]
    }
   ],
   "source": [
    "model = GPT.from_pretrained('/data2/mengfanxu/huggingface/gpt2-xl')"
   ]
  },
  {
   "cell_type": "code",
   "execution_count": 6,
   "metadata": {},
   "outputs": [
    {
     "name": "stderr",
     "output_type": "stream",
     "text": [
      "/tmp/ipykernel_2935651/3779957639.py:2: FutureWarning: You are using `torch.load` with `weights_only=False` (the current default value), which uses the default pickle module implicitly. It is possible to construct malicious pickle data which will execute arbitrary code during unpickling (See https://github.com/pytorch/pytorch/blob/main/SECURITY.md#untrusted-models for more details). In a future release, the default value for `weights_only` will be flipped to `True`. This limits the functions that could be executed during unpickling. Arbitrary objects will no longer be allowed to be loaded via this mode unless they are explicitly allowlisted by the user via `torch.serialization.add_safe_globals`. We recommend you start setting `weights_only=True` for any use case where you don't have full control of the loaded file. Please open an issue on GitHub for any issues related to this experimental feature.\n",
      "  state_dict = torch.load(\"orthogonal/gpt2-xl.pt\")\n"
     ]
    },
    {
     "data": {
      "text/plain": [
       "<All keys matched successfully>"
      ]
     },
     "execution_count": 6,
     "metadata": {},
     "output_type": "execute_result"
    }
   ],
   "source": [
    "orthogonal_model = deepcopy(model)\n",
    "state_dict = torch.load(\"orthogonal/gpt2-xl.pt\")\n",
    "orthogonal_model.load_state_dict(state_dict)"
   ]
  },
  {
   "cell_type": "code",
   "execution_count": 7,
   "metadata": {},
   "outputs": [],
   "source": [
    "logits, loss, qk_norm_list, v_norm_list = model(x)"
   ]
  },
  {
   "cell_type": "code",
   "execution_count": 8,
   "metadata": {},
   "outputs": [],
   "source": [
    "orthogonal_logits, loss, orthogonal_qk_norm_list, orthogonal_v_norm_list = orthogonal_model(x)"
   ]
  },
  {
   "cell_type": "code",
   "execution_count": null,
   "metadata": {},
   "outputs": [],
   "source": [
    "from copy import deepcopy\n",
    "import matplotlib.pyplot as plt\n",
    "\n",
    "for layer in range(len(qk_norm_list)):\n",
    "    plt.figure(figsize=(20,3))\n",
    "    plt.plot(qk_norm_list[layer],label=\"vanila\")\n",
    "    plt.plot(orthogonal_qk_norm_list[layer], label='orthogonal')\n",
    "    plt.ylim(0,50)\n",
    "    plt.legend()\n",
    "    plt.show()"
   ]
  },
  {
   "cell_type": "code",
   "execution_count": null,
   "metadata": {},
   "outputs": [],
   "source": [
    "from copy import deepcopy\n",
    "import matplotlib.pyplot as plt\n",
    "\n",
    "for layer in range(len(v_norm_list)):\n",
    "    plt.figure(figsize=(20,3))\n",
    "    plt.plot(v_norm_list[layer],label=\"vanila\")\n",
    "    plt.plot(orthogonal_v_norm_list[layer], label='orthogonal')\n",
    "    plt.ylim(0,100)\n",
    "    plt.legend()\n",
    "    plt.show()"
   ]
  },
  {
   "cell_type": "code",
   "execution_count": null,
   "metadata": {},
   "outputs": [],
   "source": [
    "from copy import deepcopy\n",
    "import matplotlib.pyplot as plt\n",
    "for layer in range(len(v_norm_list)):\n",
    "    plt.plot(v_norm_list[layer].reshape(-1,64).sort(dim=-1,descending=True)[0].reshape(-1),label=\"vanila\")\n",
    "    plt.plot(orthogonal_v_norm_list[layer].reshape(-1,64).sort(dim=-1,descending=True)[0].reshape(-1), label='orthogonal')\n",
    "    #plt.ylim(0,50)\n",
    "    plt.legend()\n",
    "    plt.show()"
   ]
  },
  {
   "cell_type": "code",
   "execution_count": null,
   "metadata": {},
   "outputs": [],
   "source": [
    "from copy import deepcopy\n",
    "import matplotlib.pyplot as plt\n",
    "for layer in range(len(qk_norm_list)):\n",
    "    plt.plot(qk_norm_list[layer].reshape(-1,64).sort(dim=-1,descending=True)[0].reshape(-1),label=\"vanila\")\n",
    "    plt.plot(orthogonal_qk_norm_list[layer].reshape(-1,64).sort(dim=-1,descending=True)[0].reshape(-1), label='orthogonal')\n",
    "    #plt.ylim(0,500)\n",
    "    plt.legend()\n",
    "    plt.show()"
   ]
  },
  {
   "cell_type": "code",
   "execution_count": null,
   "metadata": {},
   "outputs": [],
   "source": []
  },
  {
   "cell_type": "code",
   "execution_count": null,
   "metadata": {},
   "outputs": [],
   "source": []
  }
 ],
 "metadata": {
  "kernelspec": {
   "display_name": "base",
   "language": "python",
   "name": "python3"
  },
  "language_info": {
   "codemirror_mode": {
    "name": "ipython",
    "version": 3
   },
   "file_extension": ".py",
   "mimetype": "text/x-python",
   "name": "python",
   "nbconvert_exporter": "python",
   "pygments_lexer": "ipython3",
   "version": "3.12.4"
  }
 },
 "nbformat": 4,
 "nbformat_minor": 2
}
