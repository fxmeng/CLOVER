{
 "cells": [
  {
   "cell_type": "code",
   "execution_count": null,
   "metadata": {},
   "outputs": [],
   "source": [
    "from model import GPT\n",
    "import numpy as np\n",
    "import torch\n",
    "from tqdm import tqdm\n",
    "from copy import deepcopy\n",
    "import matplotlib.pyplot as plt"
   ]
  },
  {
   "cell_type": "code",
   "execution_count": null,
   "metadata": {},
   "outputs": [],
   "source": [
    "orthogonal_model = deepcopy(model)\n",
    "state_dict = torch.load(\"orthogonal/gpt2-xl.pt\")\n",
    "orthogonal_model.load_state_dict(state_dict)\n",
    "q_proj = deepcopy(orthogonal_model.transformer.h[layer].attn.q_proj)\n",
    "k_proj = deepcopy(orthogonal_model.transformer.h[layer].attn.k_proj)\n",
    "v_proj = deepcopy(orthogonal_model.transformer.h[layer].attn.v_proj)\n",
    "o_proj = deepcopy(orthogonal_model.transformer.h[layer].attn.o_proj)\n",
    "torch.save(q_proj, \"state_dict/gpt2/orthogonal_q_proj.pt\")\n",
    "torch.save(k_proj, \"state_dict/gpt2/orthogonal_k_proj.pt\")\n",
    "torch.save(v_proj, \"state_dict/gpt2/orthogonal_v_proj.pt\")\n",
    "torch.save(o_proj, \"state_dict/gpt2/orthogonal_o_proj.pt\")"
   ]
  }
 ],
 "metadata": {
  "kernelspec": {
   "display_name": "base",
   "language": "python",
   "name": "python3"
  },
  "language_info": {
   "codemirror_mode": {
    "name": "ipython",
    "version": 3
   },
   "file_extension": ".py",
   "mimetype": "text/x-python",
   "name": "python",
   "nbconvert_exporter": "python",
   "pygments_lexer": "ipython3",
   "version": "3.12.2"
  }
 },
 "nbformat": 4,
 "nbformat_minor": 2
}
